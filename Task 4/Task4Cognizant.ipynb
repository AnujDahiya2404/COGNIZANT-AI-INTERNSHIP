{
  "cells": [
    {
      "cell_type": "markdown",
      "metadata": {
        "id": "--5lnV0B8Yk4"
      },
      "source": [
        "# Task 4: Machine Learning Production"
      ]
    },
    {
      "cell_type": "code",
      "execution_count": null,
      "metadata": {
        "id": "MgJPWUsc770f"
      },
      "outputs": [],
      "source": [
        "#Import all libraries\n",
        "import pandas as pd\n",
        "from sklearn.ensemble import RandomForestRegressor\n",
        "from sklearn.model_selection import train_test_split\n",
        "from sklearn.metrics import mean_absolute_error\n",
        "from sklearn.preprocessing import StandardScaler"
      ]
    },
    {
      "cell_type": "code",
      "execution_count": null,
      "metadata": {
        "id": "7HWvWMgp8D9N"
      },
      "outputs": [],
      "source": [
        "def load_csv_dataset(file_path):\n",
        "    df = pd.read_csv(f\"{file_path}\")\n",
        "    df.drop(columns=[\"Unnamed: 0\"], inplace=True, errors='ignore')\n",
        "    return df"
      ]
    },
    {
      "cell_type": "code",
      "execution_count": null,
      "metadata": {
        "id": "L5kNMn-H8FlE"
      },
      "outputs": [],
      "source": [
        "def create_target_predictors(\n",
        "    data: pd.Dataframe = None,\n",
        "    target: str = \"estimated_stock_pct\" ):\n",
        "    if target not in data.columns:\n",
        "        raise Exception(f\"Target: {target} is not present in the data\")\n",
        "    X = data.drop(columns=[\"estimated_stock_pct\"])\n",
        "    y = data[\"estimated_stock_pct\"]\n",
        "    return X, y"
      ]
    },
    {
      "cell_type": "code",
      "execution_count": null,
      "metadata": {
        "id": "5J9D3mPr8IIC"
      },
      "outputs": [],
      "source": [
        "def train_algorithm_with_cross_validation(\n",
        "    X: pd.Dataframe = None,\n",
        "    y: pd.Series = None):\n",
        "\n",
        "    accuracy = []\n",
        "\n",
        "    for fold in range(0, K):\n",
        "\n",
        "        model = RandomForestRegressor()\n",
        "        scaler = StandardScaler()\n",
        "\n",
        "        X_train, X_test, y_train, y_test = train_test_split(X, y, train_size=split, random_state=42)\n",
        "\n",
        "        scaler.fit(X_train)\n",
        "        X_train = scaler.transform(X_train)\n",
        "        X_test = scaler.transform(X_test)\n",
        "\n",
        "        trained_model = model.fit(X_train, y_train)\n",
        "\n",
        "        y_pred = trained_model.predict(X_test)\n",
        "\n",
        "        mae = mean_absolute_error(y_true=y_test, y_pred=y_pred)\n",
        "        accuracy.append(mae)\n",
        "        print(f\"Fold {fold + 1}: MAE = {mae:.3f}\")\n",
        "\n",
        "    avg_mae = sum(accuracy) / len(accuracy)\n",
        "    print(f\"Average MAE: {avg_mae:.2f}\")\n",
        "    return avg_mae"
      ]
    }
  ],
  "metadata": {
    "colab": {
      "provenance": []
    },
    "kernelspec": {
      "display_name": "Python 3",
      "name": "python3"
    },
    "language_info": {
      "name": "python"
    }
  },
  "nbformat": 4,
  "nbformat_minor": 0
}
